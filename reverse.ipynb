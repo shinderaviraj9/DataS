{
 "cells": [
  {
   "cell_type": "code",
   "execution_count": null,
   "metadata": {},
   "outputs": [],
   "source": [
    "class Node():\n",
    "    def __init__(self,data):\n",
    "        self.data=data\n",
    "        self.next=None\n",
    "class linkedlist():\n",
    "    def __init__(self):\n",
    "        self.head=None\n",
    "    def push(self, data ):\n",
    "        newNode= Node(data)\n",
    "        newNode.next= self.head \n",
    "        self.head =newNode\n",
    "        return\n",
    "    def print(self):\n",
    "        if self.head is None:\n",
    "            print('Empty list')\n",
    "        temp=self.head\n",
    "        while temp:\n",
    "            print(temp.data)\n",
    "            temp=temp.next\n",
    "    def  reverse(self):\n",
    "        prev=None\n",
    "        curr= self.head\n",
    "        while(curr):\n",
    "            next=curr.next\n",
    "            curr.next=prev\n",
    "            prev=curr\n",
    "            curr=next\n",
    "            self.head=prev\n",
    "        print(self.print())\n",
    "        \n",
    "if __name__=='__main__':\n",
    "    linkedlist1= linkedlist();\n",
    "    linkedlist1.push(15)\n",
    "    linkedlist1.push(16)\n",
    "    linkedlist1.push(20)\n",
    "    linkedlist1.print()\n",
    "    print('*'*50)\n",
    "    linkedlist1.reverse()   "
   ]
  }
 ],
 "metadata": {
  "kernelspec": {
   "display_name": "Python 3",
   "language": "python",
   "name": "python3"
  },
  "language_info": {
   "codemirror_mode": {
    "name": "ipython",
    "version": 3
   },
   "file_extension": ".py",
   "mimetype": "text/x-python",
   "name": "python",
   "nbconvert_exporter": "python",
   "pygments_lexer": "ipython3",
   "version": "3.6.5"
  }
 },
 "nbformat": 4,
 "nbformat_minor": 2
}
