{
 "cells": [
  {
   "cell_type": "code",
   "execution_count": 11,
   "metadata": {},
   "outputs": [
    {
     "name": "stdout",
     "output_type": "stream",
     "text": [
      "20\n",
      "16\n",
      "15\n",
      "15\n",
      "16\n",
      "20\n",
      "None\n",
      "**************************************************\n",
      "16\n",
      "15\n",
      "20\n"
     ]
    }
   ],
   "source": [
    "class Node():\n",
    "    def __init__(self,data):\n",
    "        self.data=data\n",
    "        self.next=None\n",
    "class linkedlist():\n",
    "    def __init__(self):\n",
    "        self.head=None\n",
    "    def push(self, data ):\n",
    "        newNode= Node(data)\n",
    "        newNode.next= self.head \n",
    "        self.head =newNode\n",
    "        return\n",
    "    def print(self):\n",
    "        if self.head is None:\n",
    "            print('Empty list')\n",
    "        temp=self.head\n",
    "        while temp:\n",
    "            print(temp.data)\n",
    "            temp=temp.next\n",
    "    def  reverse(self):\n",
    "        prev=None\n",
    "        curr= self.head\n",
    "        while(curr):\n",
    "            next=curr.next\n",
    "            curr.next=prev\n",
    "            prev=curr\n",
    "            curr=next\n",
    "            self.head=prev\n",
    "        print(self.print())\n",
    "        \n",
    "    def lastNode(self):\n",
    "            pass;\n",
    "    \n",
    "    def pairwiseswap(self,head):\n",
    "        if ((head ) and  (head.next)):\n",
    "            self.swap(self.head, self.head.next)\n",
    "            self.pairwiseswap(self.head.next.next)\n",
    "        \n",
    "    def swap(self,data1,data2):\n",
    "        temp=data1.data\n",
    "        data1.data=data2.data\n",
    "        data2.data=temp\n",
    "        \n",
    "if __name__=='__main__':\n",
    "    linkedlist1= linkedlist();\n",
    "    linkedlist1.push(15)\n",
    "    linkedlist1.push(16)\n",
    "    linkedlist1.push(20)\n",
    "    linkedlist1.print()\n",
    "    #print('*'*50)\n",
    "    linkedlist1.reverse()  \n",
    "    print('*'*50)\n",
    "    linkedlist1.pairwiseswap(linkedlist1.head)\n",
    "    linkedlist1.print()"
   ]
  },
  {
   "cell_type": "code",
   "execution_count": null,
   "metadata": {},
   "outputs": [],
   "source": []
  }
 ],
 "metadata": {
  "kernelspec": {
   "display_name": "Python 3",
   "language": "python",
   "name": "python3"
  },
  "language_info": {
   "codemirror_mode": {
    "name": "ipython",
    "version": 3
   },
   "file_extension": ".py",
   "mimetype": "text/x-python",
   "name": "python",
   "nbconvert_exporter": "python",
   "pygments_lexer": "ipython3",
   "version": "3.6.5"
  }
 },
 "nbformat": 4,
 "nbformat_minor": 2
}
